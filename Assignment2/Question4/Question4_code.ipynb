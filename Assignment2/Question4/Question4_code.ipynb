{
  "nbformat": 4,
  "nbformat_minor": 0,
  "metadata": {
    "kernelspec": {
      "display_name": "Python 3",
      "language": "python",
      "name": "python3"
    },
    "language_info": {
      "codemirror_mode": {
        "name": "ipython",
        "version": 3
      },
      "file_extension": ".py",
      "mimetype": "text/x-python",
      "name": "python",
      "nbconvert_exporter": "python",
      "pygments_lexer": "ipython3",
      "version": "3.6.8"
    },
    "colab": {
      "name": "Question4_code.ipynb",
      "provenance": []
    }
  },
  "cells": [
    {
      "cell_type": "code",
      "metadata": {
        "id": "LpHFXOBBeHJk",
        "colab_type": "code",
        "colab": {}
      },
      "source": [
        "import json\n",
        "import sklearn\n",
        "import os\n",
        "import nltk\n",
        "import spacy\n",
        "from sklearn.metrics import mean_squared_error\n",
        "from scipy.stats import pearsonr\n",
        "from nltk.tokenize import RegexpTokenizer, wordpunct_tokenize, sent_tokenize\n",
        "from spacy.tokenizer import Tokenizer\n",
        "from spacy.pipeline import Sentencizer\n",
        "import operator\n",
        "from spacy.lang.en import English\n",
        "nlp = English()\n",
        "\n",
        "import readability\n",
        "\n",
        "from sklearn.linear_model import LogisticRegression,LinearRegression\n",
        "from sklearn.preprocessing import Normalizer,power_transform\n",
        "from sklearn import svm\n",
        "import numpy as np\n",
        "import os\n",
        "from sklearn.metrics.pairwise import cosine_similarity"
      ],
      "execution_count": 0,
      "outputs": []
    },
    {
      "cell_type": "code",
      "metadata": {
        "id": "TfTgtHJCeHJp",
        "colab_type": "code",
        "colab": {}
      },
      "source": [
        "with open(\"summary_quality/train_data.json\",'r') as fin:\n",
        "    train_data = json.load(fin)"
      ],
      "execution_count": 0,
      "outputs": []
    },
    {
      "cell_type": "code",
      "metadata": {
        "id": "KKtmAOpKeHJu",
        "colab_type": "code",
        "colab": {}
      },
      "source": [
        "with open(\"summary_quality/test_data.json\",'r') as fin:\n",
        "    test_data = json.load(fin)"
      ],
      "execution_count": 0,
      "outputs": []
    },
    {
      "cell_type": "code",
      "metadata": {
        "id": "kfFGKOeweHJx",
        "colab_type": "code",
        "colab": {}
      },
      "source": [
        "Summary_list = []"
      ],
      "execution_count": 0,
      "outputs": []
    },
    {
      "cell_type": "code",
      "metadata": {
        "id": "3ik4kR8UeHJ1",
        "colab_type": "code",
        "colab": {}
      },
      "source": [
        "#files= os.listdir('summary_quality/summaries') #get all file names under the training dataset\n",
        "\n",
        "for file in list(train_data): \n",
        "    f = open('summary_quality/summaries/'+file, mode = 'r',encoding='latin-1')\n",
        "    article = f.read()\n",
        "    #all_text.append(article.lower()) # lowercase all the words\n",
        "    f.close()\n",
        "    Summary_list.append([file, article])"
      ],
      "execution_count": 0,
      "outputs": []
    },
    {
      "cell_type": "code",
      "metadata": {
        "scrolled": true,
        "id": "XbNYXN4yeHJ5",
        "colab_type": "code",
        "colab": {}
      },
      "source": [
        "test_summary = []\n",
        "for file in list(test_data): \n",
        "    f = open('summary_quality/summaries/'+file, mode = 'r',encoding='latin-1')\n",
        "    article = f.read()\n",
        "    #all_text.append(article.lower()) # lowercase all the words\n",
        "    f.close()\n",
        "    test_summary.append([file, article])"
      ],
      "execution_count": 0,
      "outputs": []
    },
    {
      "cell_type": "markdown",
      "metadata": {
        "id": "AeNYI3qZeHJ9",
        "colab_type": "text"
      },
      "source": [
        "#### 4.1.1"
      ]
    },
    {
      "cell_type": "code",
      "metadata": {
        "id": "NrdD-KIxeHJ-",
        "colab_type": "code",
        "colab": {}
      },
      "source": [
        "nlp = spacy.load(\"en_core_web_sm\")"
      ],
      "execution_count": 0,
      "outputs": []
    },
    {
      "cell_type": "code",
      "metadata": {
        "id": "nRiYvd0keHKD",
        "colab_type": "code",
        "colab": {}
      },
      "source": [
        "sentencizer = nlp.create_pipe(\"sentencizer\")\n",
        "nlp.add_pipe(sentencizer)"
      ],
      "execution_count": 0,
      "outputs": []
    },
    {
      "cell_type": "code",
      "metadata": {
        "id": "3LkX6Uw3eHKI",
        "colab_type": "code",
        "colab": {}
      },
      "source": [
        "def token_it(text):\n",
        "    doc = nlp(text)\n",
        "    unigram = []\n",
        "    bigram = []\n",
        "    for i in range(len(doc)):\n",
        "        unigram.append(doc[i].text)\n",
        "        if i>=1:\n",
        "            bigram.append([doc[i-1].text, doc[i].text])\n",
        "    return unigram, bigram"
      ],
      "execution_count": 0,
      "outputs": []
    },
    {
      "cell_type": "code",
      "metadata": {
        "id": "shTUtwuceHKM",
        "colab_type": "code",
        "colab": {}
      },
      "source": [
        "def sentence_token(text):\n",
        "    \n",
        "    doc = nlp(text)\n",
        "    return list(doc.sents)"
      ],
      "execution_count": 0,
      "outputs": []
    },
    {
      "cell_type": "code",
      "metadata": {
        "id": "Fdd-6Z3-eHKS",
        "colab_type": "code",
        "colab": {}
      },
      "source": [
        "def count_repetitive(gram_List):\n",
        "    repetitive_num = 0\n",
        "    for j in range(len(gram_List)):\n",
        "        if j >= 1:\n",
        "            if str(gram_List[j]) == str(gram_List[j-1]):\n",
        "                #print(str(gram_List[j]),str(gram_List[j-1]))\n",
        "                repetitive_num +=1\n",
        "            \n",
        "    return repetitive_num"
      ],
      "execution_count": 0,
      "outputs": []
    },
    {
      "cell_type": "code",
      "metadata": {
        "id": "k8KZkJNMeHKZ",
        "colab_type": "code",
        "colab": {}
      },
      "source": [
        "def readability_score(all_sentences):\n",
        "    read_score = []\n",
        "    for i in all_sentences:\n",
        "\n",
        "        if any(c.isalpha() for c in str(i)) is True:\n",
        "            \n",
        "            text = (str(i))\n",
        "        \n",
        "            results = readability.getmeasures(text, lang='en')\n",
        "            read_score.append(results['readability grades']['FleschReadingEase'])\n",
        "    if len(read_score)>0:\n",
        "        return read_score\n",
        "    else:\n",
        "        return [0]\n"
      ],
      "execution_count": 0,
      "outputs": []
    },
    {
      "cell_type": "code",
      "metadata": {
        "id": "AzG2eHuCeHKd",
        "colab_type": "code",
        "colab": {}
      },
      "source": [
        "def summary_vector(data_dic, filename):\n",
        "    temp_dic = data_dic[filename]\n",
        "    sent_vec = [int(temp_dic['coherence']),int(temp_dic['grammaticality']),int(temp_dic['nonredundancy'])]\n",
        "    \n",
        "    return sent_vec"
      ],
      "execution_count": 0,
      "outputs": []
    },
    {
      "cell_type": "code",
      "metadata": {
        "id": "z254MorLeHKi",
        "colab_type": "code",
        "colab": {}
      },
      "source": [
        "Grammaticality_Score_Vec = []\n",
        "Grammaticality_Score_Y = []\n",
        "for i in Summary_list:\n",
        "    unigram, bigrm = token_it(i[1].lower().replace('\\n',' '))\n",
        "    \n",
        "    sentences = sentence_token(i[1])\n",
        "    temp_vector = [count_repetitive(unigram), count_repetitive(list(bigrm)),\n",
        "                   min(readability_score(sentences))]\n",
        "    Grammaticality_Score_Y.append(summary_vector(train_data, i[0])[1])\n",
        "    Grammaticality_Score_Vec.append(temp_vector)"
      ],
      "execution_count": 0,
      "outputs": []
    },
    {
      "cell_type": "code",
      "metadata": {
        "id": "4JFUfepYeHKm",
        "colab_type": "code",
        "colab": {}
      },
      "source": [
        "Grammaticality_test_Vec = []\n",
        "Grammaticality_test_Y = []\n",
        "for i in test_summary:\n",
        "\n",
        "    unigram, bigrm = token_it(i[1].lower().replace('\\n',' '))\n",
        "    \n",
        "    sentences = sentence_token(i[1])\n",
        "    temp_vector = [count_repetitive(unigram), count_repetitive(list(bigrm)),\n",
        "                   min(readability_score(sentences))]\n",
        "    Grammaticality_test_Y.append(summary_vector(test_data, i[0])[1])\n",
        "    Grammaticality_test_Vec.append(temp_vector)"
      ],
      "execution_count": 0,
      "outputs": []
    },
    {
      "cell_type": "code",
      "metadata": {
        "id": "bkUb6B0ReHKp",
        "colab_type": "code",
        "colab": {},
        "outputId": "ad81a900-5fc8-46dc-ff59-168b0447ecf3"
      },
      "source": [
        "clf_gramma = svm.SVC(gamma='auto_deprecated')\n",
        "clf_gramma.fit(Grammaticality_Score_Vec, Grammaticality_Score_Y)  "
      ],
      "execution_count": 0,
      "outputs": [
        {
          "output_type": "stream",
          "text": [
            "/Users/xizheng/anaconda3/lib/python3.6/site-packages/sklearn/svm/base.py:196: FutureWarning: The default value of gamma will change from 'auto' to 'scale' in version 0.22 to account better for unscaled features. Set gamma explicitly to 'auto' or 'scale' to avoid this warning.\n",
            "  \"avoid this warning.\", FutureWarning)\n"
          ],
          "name": "stderr"
        },
        {
          "output_type": "execute_result",
          "data": {
            "text/plain": [
              "SVC(C=1.0, cache_size=200, class_weight=None, coef0=0.0,\n",
              "  decision_function_shape='ovr', degree=3, gamma='auto_deprecated',\n",
              "  kernel='rbf', max_iter=-1, probability=False, random_state=None,\n",
              "  shrinking=True, tol=0.001, verbose=False)"
            ]
          },
          "metadata": {
            "tags": []
          },
          "execution_count": 105
        }
      ]
    },
    {
      "cell_type": "code",
      "metadata": {
        "id": "n9fF0iPceHKu",
        "colab_type": "code",
        "colab": {}
      },
      "source": [
        "predict_gramma_1 = clf_gramma.predict(Grammaticality_test_Vec)"
      ],
      "execution_count": 0,
      "outputs": []
    },
    {
      "cell_type": "code",
      "metadata": {
        "id": "1Blr106xeHKy",
        "colab_type": "code",
        "colab": {}
      },
      "source": [
        "gramma_MSE_1 = mean_squared_error(Grammaticality_test_Y,predict_gramma_1)"
      ],
      "execution_count": 0,
      "outputs": []
    },
    {
      "cell_type": "code",
      "metadata": {
        "id": "SN54az1OeHK2",
        "colab_type": "code",
        "colab": {}
      },
      "source": [
        "gramma_pearsonr_1 = pearsonr(Grammaticality_test_Y,predict_gramma_1)"
      ],
      "execution_count": 0,
      "outputs": []
    },
    {
      "cell_type": "code",
      "metadata": {
        "id": "_J3UXbzOeHK5",
        "colab_type": "code",
        "colab": {},
        "outputId": "91231f0c-c7f9-4b91-ce8c-ea002eed7569"
      },
      "source": [
        "print('The MSE is '+str(gramma_MSE_1) +'. The pearson is '+str(gramma_pearsonr_1) +'.')"
      ],
      "execution_count": 0,
      "outputs": [
        {
          "output_type": "stream",
          "text": [
            "The MSE is 0.7564766839378239. The pearson is (0.20775594900478267, 0.0037412836241748322).\n"
          ],
          "name": "stdout"
        }
      ]
    },
    {
      "cell_type": "markdown",
      "metadata": {
        "id": "N6YXXAuueHK8",
        "colab_type": "text"
      },
      "source": [
        "#### 4.1.2"
      ]
    },
    {
      "cell_type": "code",
      "metadata": {
        "id": "8T1kqGrUeHK9",
        "colab_type": "code",
        "colab": {}
      },
      "source": [
        "def all_repeat_uni(texts):\n",
        "    nlp = spacy.load(\"en_core_web_sm\")\n",
        "    doc = nlp(texts)\n",
        "    uni = {}\n",
        "    for i in range(len(doc)):\n",
        "        if doc[i].text in uni:\n",
        "            uni[doc[i].text] += 1\n",
        "        if doc[i].text not in uni:\n",
        "            uni[doc[i].text] = 1\n",
        "    \n",
        "    repeat_grams = 0\n",
        "    for i in list(uni.keys()):\n",
        "        if uni[i] >1:\n",
        "            repeat_grams +=1\n",
        "    return repeat_grams"
      ],
      "execution_count": 0,
      "outputs": []
    },
    {
      "cell_type": "code",
      "metadata": {
        "id": "nL2UuDsNeHLA",
        "colab_type": "code",
        "colab": {}
      },
      "source": [
        "def countgram(gram_List):\n",
        "    count_dic = {}\n",
        "    \n",
        "    for j in gram_List:\n",
        "        if str(j) in count_dic:\n",
        "            count_dic[str(j)] += 1\n",
        "        if str(j) not in count_dic:\n",
        "            count_dic[str(j)] = 1\n",
        "    return count_dic"
      ],
      "execution_count": 0,
      "outputs": []
    },
    {
      "cell_type": "code",
      "metadata": {
        "id": "pvXYgOwveHLE",
        "colab_type": "code",
        "colab": {}
      },
      "source": [
        "Grammaticality_Score_Vec_1 = []\n",
        "\n",
        "for i in range(len(Grammaticality_Score_Vec)):\n",
        "    temp_text = Summary_list[i][1]\n",
        "    unigram, bigrm = token_it(temp_text.lower().replace('\\n',' '))\n",
        "    Grammaticality_Score_Vec_1.append(Grammaticality_Score_Vec[i]+\n",
        "                                      [len(countgram(unigram))/len(sentence_token(temp_text))])"
      ],
      "execution_count": 0,
      "outputs": []
    },
    {
      "cell_type": "code",
      "metadata": {
        "id": "dSc1Dd-weHLH",
        "colab_type": "code",
        "colab": {}
      },
      "source": [
        "Grammaticality_test_Vec_1 = []\n",
        "\n",
        "for i in range(len(Grammaticality_test_Vec)):\n",
        "    temp_text = test_summary[i][1]\n",
        "    unigram, bigrm = token_it(temp_text.lower().replace('\\n',' '))\n",
        "    Grammaticality_test_Vec_1.append(Grammaticality_test_Vec[i]+\n",
        "                                      [len(countgram(unigram))/len(sentence_token(temp_text))])"
      ],
      "execution_count": 0,
      "outputs": []
    },
    {
      "cell_type": "code",
      "metadata": {
        "id": "fdOgHac6eHLM",
        "colab_type": "code",
        "colab": {}
      },
      "source": [
        "def normalization(X):\n",
        "    return power_transform(X, method='yeo-johnson')"
      ],
      "execution_count": 0,
      "outputs": []
    },
    {
      "cell_type": "code",
      "metadata": {
        "id": "ne5wnxgneHLZ",
        "colab_type": "code",
        "colab": {}
      },
      "source": [
        "Grammaticality_Score_Vec_1_norm = normalization(Grammaticality_Score_Vec_1)"
      ],
      "execution_count": 0,
      "outputs": []
    },
    {
      "cell_type": "code",
      "metadata": {
        "id": "8RKhaUaXeHLc",
        "colab_type": "code",
        "colab": {}
      },
      "source": [
        "Grammaticality_test_Vec_1_norm = normalization(Grammaticality_test_Vec_1)"
      ],
      "execution_count": 0,
      "outputs": []
    },
    {
      "cell_type": "code",
      "metadata": {
        "id": "fVIjRF07eHLe",
        "colab_type": "code",
        "colab": {},
        "outputId": "914620c2-6c87-49db-e8c8-68341c6bf24b"
      },
      "source": [
        "clf_gramma = svm.SVC(gamma='auto_deprecated')\n",
        "clf_gramma.fit(Grammaticality_Score_Vec_1_norm, Grammaticality_Score_Y)  "
      ],
      "execution_count": 0,
      "outputs": [
        {
          "output_type": "execute_result",
          "data": {
            "text/plain": [
              "SVC(C=1.0, cache_size=200, class_weight=None, coef0=0.0,\n",
              "  decision_function_shape='ovr', degree=3, gamma='auto_deprecated',\n",
              "  kernel='rbf', max_iter=-1, probability=False, random_state=None,\n",
              "  shrinking=True, tol=0.001, verbose=False)"
            ]
          },
          "metadata": {
            "tags": []
          },
          "execution_count": 226
        }
      ]
    },
    {
      "cell_type": "code",
      "metadata": {
        "id": "OghbrzLteHLi",
        "colab_type": "code",
        "colab": {}
      },
      "source": [
        "predict_gramma_2 = clf_gramma.predict(Grammaticality_test_Vec_1_norm)"
      ],
      "execution_count": 0,
      "outputs": []
    },
    {
      "cell_type": "code",
      "metadata": {
        "id": "rdoxxC1VeHLn",
        "colab_type": "code",
        "colab": {}
      },
      "source": [
        "gramma_MSE_2 = mean_squared_error(Grammaticality_test_Y,predict_gramma_2)"
      ],
      "execution_count": 0,
      "outputs": []
    },
    {
      "cell_type": "code",
      "metadata": {
        "id": "aXE_y2V9eHLq",
        "colab_type": "code",
        "colab": {}
      },
      "source": [
        "gramma_pearsonr_2 = pearsonr(Grammaticality_test_Y,predict_gramma_2)"
      ],
      "execution_count": 0,
      "outputs": []
    },
    {
      "cell_type": "code",
      "metadata": {
        "id": "2U2eicn2eHLt",
        "colab_type": "code",
        "colab": {},
        "outputId": "3b8aac5b-6294-47cb-d7a2-108088dcaba2"
      },
      "source": [
        "print('The MSE is '+str(gramma_MSE_2) +'. The pearson is '+str(gramma_pearsonr_2) +'.')"
      ],
      "execution_count": 0,
      "outputs": [
        {
          "output_type": "stream",
          "text": [
            "The MSE is 0.7150259067357513. The pearson is (0.2821574928897053, 7.023937045149804e-05).\n"
          ],
          "name": "stdout"
        }
      ]
    },
    {
      "cell_type": "code",
      "metadata": {
        "id": "u3L60Om_eHLx",
        "colab_type": "code",
        "colab": {}
      },
      "source": [
        "Grammaticality_Score_Vec_2 = []\n",
        "\n",
        "for i in range(len(Grammaticality_Score_Vec)):\n",
        "    temp_text = Summary_list[i][1]\n",
        "    unigram, bigrm = token_it(temp_text.lower().replace('\\n',' '))\n",
        "    Grammaticality_Score_Vec_2.append(Grammaticality_Score_Vec[i]+\n",
        "                                      [Grammaticality_Score_Vec[i][0]/len(unigram)])"
      ],
      "execution_count": 0,
      "outputs": []
    },
    {
      "cell_type": "code",
      "metadata": {
        "id": "HJldpz29eHL0",
        "colab_type": "code",
        "colab": {}
      },
      "source": [
        "Grammaticality_test_Vec_2 = []\n",
        "\n",
        "for i in range(len(Grammaticality_test_Vec)):\n",
        "    temp_text = test_summary[i][1]\n",
        "    Grammaticality_test_Vec_2.append(Grammaticality_test_Vec[i]+\n",
        "                                      [Grammaticality_test_Vec[i][0]/len(unigram)])"
      ],
      "execution_count": 0,
      "outputs": []
    },
    {
      "cell_type": "code",
      "metadata": {
        "id": "YBptzi5IeHL3",
        "colab_type": "code",
        "colab": {},
        "outputId": "bb169ecd-96fd-43cf-ebd8-8dfde3c7bae3"
      },
      "source": [
        "clf_gramma = svm.SVC(gamma='auto_deprecated')\n",
        "clf_gramma.fit(Grammaticality_Score_Vec_2, Grammaticality_Score_Y)  "
      ],
      "execution_count": 0,
      "outputs": [
        {
          "output_type": "stream",
          "text": [
            "/Users/xizheng/anaconda3/lib/python3.6/site-packages/sklearn/svm/base.py:196: FutureWarning: The default value of gamma will change from 'auto' to 'scale' in version 0.22 to account better for unscaled features. Set gamma explicitly to 'auto' or 'scale' to avoid this warning.\n",
            "  \"avoid this warning.\", FutureWarning)\n"
          ],
          "name": "stderr"
        },
        {
          "output_type": "execute_result",
          "data": {
            "text/plain": [
              "SVC(C=1.0, cache_size=200, class_weight=None, coef0=0.0,\n",
              "  decision_function_shape='ovr', degree=3, gamma='auto_deprecated',\n",
              "  kernel='rbf', max_iter=-1, probability=False, random_state=None,\n",
              "  shrinking=True, tol=0.001, verbose=False)"
            ]
          },
          "metadata": {
            "tags": []
          },
          "execution_count": 231
        }
      ]
    },
    {
      "cell_type": "code",
      "metadata": {
        "id": "er01VC80eHL7",
        "colab_type": "code",
        "colab": {}
      },
      "source": [
        "predict_gramma_3 = clf_gramma.predict(Grammaticality_test_Vec_2)"
      ],
      "execution_count": 0,
      "outputs": []
    },
    {
      "cell_type": "code",
      "metadata": {
        "id": "v-DKjBAMeHL_",
        "colab_type": "code",
        "colab": {}
      },
      "source": [
        "gramma_MSE_3 = mean_squared_error(Grammaticality_test_Y,predict_gramma_3)"
      ],
      "execution_count": 0,
      "outputs": []
    },
    {
      "cell_type": "code",
      "metadata": {
        "id": "EHWgAV1oeHMD",
        "colab_type": "code",
        "colab": {}
      },
      "source": [
        "gramma_pearsonr_3 = pearsonr(Grammaticality_test_Y,predict_gramma_3)"
      ],
      "execution_count": 0,
      "outputs": []
    },
    {
      "cell_type": "code",
      "metadata": {
        "id": "7tMhPrdueHMH",
        "colab_type": "code",
        "colab": {},
        "outputId": "f33e27c0-232b-4d3d-bfcd-70a60d99956f"
      },
      "source": [
        "print('The MSE is '+str(gramma_MSE_3) +'. The pearson is '+str(gramma_pearsonr_3) +'.')"
      ],
      "execution_count": 0,
      "outputs": [
        {
          "output_type": "stream",
          "text": [
            "The MSE is 0.7564766839378239. The pearson is (0.20775594900478267, 0.0037412836241748322).\n"
          ],
          "name": "stdout"
        }
      ]
    },
    {
      "cell_type": "markdown",
      "metadata": {
        "id": "BUOJCTTzeHML",
        "colab_type": "text"
      },
      "source": [
        "#### 4.2.1"
      ]
    },
    {
      "cell_type": "code",
      "metadata": {
        "id": "5QLGUR2jeHMM",
        "colab_type": "code",
        "colab": {}
      },
      "source": [
        "spacy_stopwords = spacy.lang.en.stop_words.STOP_WORDS"
      ],
      "execution_count": 0,
      "outputs": []
    },
    {
      "cell_type": "code",
      "metadata": {
        "id": "23xCQss9eHMP",
        "colab_type": "code",
        "colab": {}
      },
      "source": [
        "from gensim.models import KeyedVectors"
      ],
      "execution_count": 0,
      "outputs": []
    },
    {
      "cell_type": "code",
      "metadata": {
        "id": "D4tuesqgeHMR",
        "colab_type": "code",
        "colab": {}
      },
      "source": [
        "google_vecs = KeyedVectors.load_word2vec_format('GoogleNews-vectors-negative300.bin', binary=True)"
      ],
      "execution_count": 0,
      "outputs": []
    },
    {
      "cell_type": "code",
      "metadata": {
        "id": "3McCvaOgeHMW",
        "colab_type": "code",
        "colab": {}
      },
      "source": [
        "def remove_stop(grams):\n",
        "    new_grams = []\n",
        "    for i in grams:\n",
        "        if str(i) not in spacy_stopwords:\n",
        "            new_grams.append(i)\n",
        "    return new_grams"
      ],
      "execution_count": 0,
      "outputs": []
    },
    {
      "cell_type": "code",
      "metadata": {
        "id": "mjhox0UCeHMa",
        "colab_type": "code",
        "colab": {}
      },
      "source": [
        "def compute_similarity(sent_list):\n",
        "    sentence_embedding = []\n",
        "    for i in sent_list:\n",
        "        words_embedding = []\n",
        "        for words in str(i).split(' '):\n",
        "            if str(words).lower() in google_vecs:\n",
        "                words_embedding.append(google_vecs[str(words).lower()])\n",
        "            else:\n",
        "                words_embedding.append(np.zeros(google_vecs.vector_size))\n",
        "        sentence_embedding.append(np.mean(words_embedding,axis=0))\n",
        "    return sentence_embedding"
      ],
      "execution_count": 0,
      "outputs": []
    },
    {
      "cell_type": "code",
      "metadata": {
        "id": "Lphk4bISeHMd",
        "colab_type": "code",
        "colab": {}
      },
      "source": [
        "def generate_similarity(embedding):\n",
        "    cosSim = []\n",
        "    for i in embedding:\n",
        "        for j in embedding:\n",
        "            if str(i) !=str(j):\n",
        "                cosSim.append(cosine_similarity([i], [j])[0][0])\n",
        "    if len(cosSim) == 0:\n",
        "        max_sim = 0\n",
        "    else:\n",
        "        max_sim = sorted(cosSim, reverse=True)[0]\n",
        "    return max_sim"
      ],
      "execution_count": 0,
      "outputs": []
    },
    {
      "cell_type": "code",
      "metadata": {
        "id": "co6p5JHoeHMg",
        "colab_type": "code",
        "colab": {}
      },
      "source": [
        "Redundancy_Score_Vec = []\n",
        "Redundancy_Score_Y = []\n",
        "for i in Summary_list:\n",
        "    unigram, bigrm = token_it(i[1].lower().replace('\\n',' '))\n",
        "    unigram_dic = dict(sorted(countgram(remove_stop(unigram)).items(), key=operator.itemgetter(1),reverse=True))\n",
        "    bigram_dic = dict(sorted(countgram(bigrm).items(), key=operator.itemgetter(1),reverse=True))\n",
        "    sentences = sentence_token(i[1])\n",
        "    temp_vector = [unigram_dic[list(unigram_dic)[0]], bigram_dic[list(bigram_dic)[0]],generate_similarity(compute_similarity(sentences))]\n",
        "\n",
        "    Redundancy_Score_Vec.append(temp_vector)\n",
        "    Redundancy_Score_Y.append(summary_vector(train_data, i[0])[2])"
      ],
      "execution_count": 0,
      "outputs": []
    },
    {
      "cell_type": "code",
      "metadata": {
        "id": "mAAB0_z3eHMl",
        "colab_type": "code",
        "colab": {}
      },
      "source": [
        "Redundancy_Score_Vec_norm = normalization(Redundancy_Score_Vec)"
      ],
      "execution_count": 0,
      "outputs": []
    },
    {
      "cell_type": "code",
      "metadata": {
        "id": "qLDISMWWeHMo",
        "colab_type": "code",
        "colab": {}
      },
      "source": [
        "Redundancy_test_Vec = []\n",
        "Redundancy_test_Y = []\n",
        "for i in test_summary:\n",
        "    unigram, bigrm = token_it(i[1].lower().replace('\\n',' '))\n",
        "    unigram_dic = dict(sorted(countgram(remove_stop(unigram)).items(), key=operator.itemgetter(1),reverse=True))\n",
        "    bigram_dic = dict(sorted(countgram(bigrm).items(), key=operator.itemgetter(1),reverse=True))\n",
        "    sentences = sentence_token(i[1])\n",
        "    temp_vector = [unigram_dic[list(unigram_dic)[0]], bigram_dic[list(bigram_dic)[0]],generate_similarity(compute_similarity(sentences))]\n",
        "\n",
        "    Redundancy_test_Vec.append(temp_vector)\n",
        "    Redundancy_test_Y.append(summary_vector(test_data, i[0])[2])"
      ],
      "execution_count": 0,
      "outputs": []
    },
    {
      "cell_type": "code",
      "metadata": {
        "id": "OLTHnVtieHMq",
        "colab_type": "code",
        "colab": {}
      },
      "source": [
        "Redundancy_test_Vec_norm = normalization(Redundancy_test_Vec)"
      ],
      "execution_count": 0,
      "outputs": []
    },
    {
      "cell_type": "code",
      "metadata": {
        "id": "EI2vyThdeHMs",
        "colab_type": "code",
        "colab": {},
        "outputId": "cf2583f6-da61-4521-dc03-73e0092122f5"
      },
      "source": [
        "clf_red = svm.SVC(gamma='auto_deprecated')\n",
        "clf_red.fit(Redundancy_Score_Vec_norm, Redundancy_Score_Y)  "
      ],
      "execution_count": 0,
      "outputs": [
        {
          "output_type": "execute_result",
          "data": {
            "text/plain": [
              "SVC(C=1.0, cache_size=200, class_weight=None, coef0=0.0,\n",
              "  decision_function_shape='ovr', degree=3, gamma='auto_deprecated',\n",
              "  kernel='rbf', max_iter=-1, probability=False, random_state=None,\n",
              "  shrinking=True, tol=0.001, verbose=False)"
            ]
          },
          "metadata": {
            "tags": []
          },
          "execution_count": 743
        }
      ]
    },
    {
      "cell_type": "code",
      "metadata": {
        "id": "WEkVjMx1eHMu",
        "colab_type": "code",
        "colab": {},
        "outputId": "5887610e-adfe-45a0-83bf-95b1e0018470"
      },
      "source": [
        "predict_red_1 = clf_red.predict(Redundancy_test_Vec_norm)\n",
        "red_MSE_1 = mean_squared_error(Redundancy_test_Y,predict_red_1)\n",
        "red_pearsonr_1 = pearsonr(Redundancy_test_Y,predict_red_1)\n",
        "print('The MSE is '+str(red_MSE_1) +'. The pearson is '+str(red_pearsonr_1) +'.')"
      ],
      "execution_count": 0,
      "outputs": [
        {
          "output_type": "stream",
          "text": [
            "The MSE is 0.8031088082901554. The pearson is (0.11481526234107749, 0.111842589457841).\n"
          ],
          "name": "stdout"
        }
      ]
    },
    {
      "cell_type": "markdown",
      "metadata": {
        "id": "8KVpCc0NeHMz",
        "colab_type": "text"
      },
      "source": [
        "#### 4.2.2"
      ]
    },
    {
      "cell_type": "markdown",
      "metadata": {
        "id": "xPeCSmf1eHMz",
        "colab_type": "text"
      },
      "source": [
        "#### Find each token's pos, calculate the frequencies of all the pos associate with the tokens, and use the maximum value as a new feature value."
      ]
    },
    {
      "cell_type": "code",
      "metadata": {
        "id": "JujbFAnPeHM0",
        "colab_type": "code",
        "colab": {}
      },
      "source": [
        "def find_pos(text):\n",
        "    pos_dic = {}\n",
        "    \n",
        "    nlp = spacy.load(\"en_core_web_sm\")\n",
        "    for token in nlp(text):\n",
        "        ps = token.pos_\n",
        "        if str(ps) in pos_dic:\n",
        "            pos_dic[str(ps)] +=1\n",
        "        if str(ps) not in pos_dic:\n",
        "            pos_dic[str(ps)] =1\n",
        "    return pos_dic"
      ],
      "execution_count": 0,
      "outputs": []
    },
    {
      "cell_type": "code",
      "metadata": {
        "id": "C638GC2qeHM7",
        "colab_type": "code",
        "colab": {}
      },
      "source": [
        "Redundancy_Score_Vec_1 = []\n",
        "\n",
        "for i in range(len(Redundancy_Score_Vec)):\n",
        "    temp_text = Summary_list[i][1]\n",
        "    unigram_pos = dict(sorted(find_pos(temp_text).items(), key=operator.itemgetter(1),reverse=True))\n",
        "    Redundancy_Score_Vec_1.append(Redundancy_Score_Vec[i]+\n",
        "                                      [unigram_pos[list(unigram_pos)[0]]])"
      ],
      "execution_count": 0,
      "outputs": []
    },
    {
      "cell_type": "code",
      "metadata": {
        "id": "_TaZ8nL_eHNA",
        "colab_type": "code",
        "colab": {}
      },
      "source": [
        "Redundancy_test_Vec_1 = []\n",
        "\n",
        "for i in range(len(Redundancy_test_Vec)):\n",
        "    temp_text = test_summary[i][1]\n",
        "    unigram_pos = dict(sorted(find_pos(temp_text).items(), key=operator.itemgetter(1),reverse=True))\n",
        "    Redundancy_test_Vec_1.append(Redundancy_test_Vec[i]+\n",
        "                                      [unigram_pos[list(unigram_pos)[0]]])"
      ],
      "execution_count": 0,
      "outputs": []
    },
    {
      "cell_type": "code",
      "metadata": {
        "id": "LJ1_12-2eHNF",
        "colab_type": "code",
        "colab": {}
      },
      "source": [
        "Redundancy_Score_Vec_1_norm = normalization(Redundancy_Score_Vec_1)"
      ],
      "execution_count": 0,
      "outputs": []
    },
    {
      "cell_type": "code",
      "metadata": {
        "id": "TAA2QAE8eHNJ",
        "colab_type": "code",
        "colab": {}
      },
      "source": [
        "Redundancy_test_Vec_1_norm = normalization(Redundancy_test_Vec_1)"
      ],
      "execution_count": 0,
      "outputs": []
    },
    {
      "cell_type": "code",
      "metadata": {
        "id": "2eSXCSeKeHNM",
        "colab_type": "code",
        "colab": {},
        "outputId": "0abab784-36f6-4a60-ff4e-3b1e8adb615f"
      },
      "source": [
        "clf_red = svm.SVC(gamma='auto_deprecated')\n",
        "clf_red.fit(Redundancy_Score_Vec_1_norm, Redundancy_Score_Y)  "
      ],
      "execution_count": 0,
      "outputs": [
        {
          "output_type": "execute_result",
          "data": {
            "text/plain": [
              "SVC(C=1.0, cache_size=200, class_weight=None, coef0=0.0,\n",
              "  decision_function_shape='ovr', degree=3, gamma='auto_deprecated',\n",
              "  kernel='rbf', max_iter=-1, probability=False, random_state=None,\n",
              "  shrinking=True, tol=0.001, verbose=False)"
            ]
          },
          "metadata": {
            "tags": []
          },
          "execution_count": 798
        }
      ]
    },
    {
      "cell_type": "code",
      "metadata": {
        "id": "Iu-BUHdmeHNO",
        "colab_type": "code",
        "colab": {},
        "outputId": "410519b1-f5ee-4435-f5f0-082c52fb8872"
      },
      "source": [
        "predict_red_2 = clf_red.predict(Redundancy_test_Vec_1_norm)\n",
        "red_MSE_2 = mean_squared_error(Redundancy_test_Y,predict_red_2)\n",
        "red_pearsonr_2 = pearsonr(Redundancy_test_Y,predict_red_2)\n",
        "print('The MSE is '+str(red_MSE_2) +'. The pearson is '+str(red_pearsonr_2) +'.')"
      ],
      "execution_count": 0,
      "outputs": [
        {
          "output_type": "stream",
          "text": [
            "The MSE is 0.7979274611398963. The pearson is (0.13338004311664917, 0.06442765910550147).\n"
          ],
          "name": "stdout"
        }
      ]
    },
    {
      "cell_type": "markdown",
      "metadata": {
        "id": "azDSXtmOeHNR",
        "colab_type": "text"
      },
      "source": [
        "#### Find each token's tag, calculate the frequencies of all the tag associate with the tokens, and use the maximum value as a new feature value."
      ]
    },
    {
      "cell_type": "code",
      "metadata": {
        "id": "7tisVJGJeHNS",
        "colab_type": "code",
        "colab": {}
      },
      "source": [
        "def find_tag(text):\n",
        "    tg_dic = {}\n",
        "    \n",
        "    nlp = spacy.load(\"en_core_web_sm\")\n",
        "    for token in nlp(text):\n",
        "        tg = token.tag_\n",
        "        if str(tg) in tg_dic:\n",
        "            tg_dic[str(tg)] +=1\n",
        "        if str(tg) not in tg_dic:\n",
        "            tg_dic[str(tg)] =1\n",
        "    return tg_dic"
      ],
      "execution_count": 0,
      "outputs": []
    },
    {
      "cell_type": "code",
      "metadata": {
        "id": "cfzOP6qoeHNW",
        "colab_type": "code",
        "colab": {}
      },
      "source": [
        "Redundancy_Score_Vec_2 = []\n",
        "\n",
        "for i in range(len(Redundancy_Score_Vec)):\n",
        "    temp_text = Summary_list[i][1]\n",
        "    unigram_tag= dict(sorted(find_tag(temp_text).items(), key=operator.itemgetter(1),reverse=True))\n",
        "    Redundancy_Score_Vec_2.append(Redundancy_Score_Vec[i]+\n",
        "                                      [unigram_tag[list(unigram_tag)[0]]])"
      ],
      "execution_count": 0,
      "outputs": []
    },
    {
      "cell_type": "code",
      "metadata": {
        "id": "vd3IVBZ_eHNY",
        "colab_type": "code",
        "colab": {}
      },
      "source": [
        "Redundancy_test_Vec_2 = []\n",
        "\n",
        "for i in range(len(Redundancy_test_Vec)):\n",
        "    temp_text = test_summary[i][1]\n",
        "    unigram_tag = dict(sorted(find_tag(temp_text).items(), key=operator.itemgetter(1),reverse=True))\n",
        "    Redundancy_test_Vec_2.append(Redundancy_test_Vec[i]+\n",
        "                                      [unigram_tag[list(unigram_tag)[0]]])"
      ],
      "execution_count": 0,
      "outputs": []
    },
    {
      "cell_type": "code",
      "metadata": {
        "id": "0_PRV5XqeHNb",
        "colab_type": "code",
        "colab": {}
      },
      "source": [
        "Redundancy_Score_Vec_2_norm = normalization(Redundancy_Score_Vec_2)"
      ],
      "execution_count": 0,
      "outputs": []
    },
    {
      "cell_type": "code",
      "metadata": {
        "id": "zlW8NTMBeHNd",
        "colab_type": "code",
        "colab": {}
      },
      "source": [
        "Redundancy_test_Vec_2_norm = normalization(Redundancy_test_Vec_2)"
      ],
      "execution_count": 0,
      "outputs": []
    },
    {
      "cell_type": "code",
      "metadata": {
        "id": "VdlQkhYpeHNf",
        "colab_type": "code",
        "colab": {},
        "outputId": "523f3635-a812-4dbc-f0f9-2d2a1ee24923"
      },
      "source": [
        "clf_red = svm.SVC(gamma='auto_deprecated')\n",
        "clf_red.fit(Redundancy_Score_Vec_2_norm, Redundancy_Score_Y)  "
      ],
      "execution_count": 0,
      "outputs": [
        {
          "output_type": "execute_result",
          "data": {
            "text/plain": [
              "SVC(C=1.0, cache_size=200, class_weight=None, coef0=0.0,\n",
              "  decision_function_shape='ovr', degree=3, gamma='auto_deprecated',\n",
              "  kernel='rbf', max_iter=-1, probability=False, random_state=None,\n",
              "  shrinking=True, tol=0.001, verbose=False)"
            ]
          },
          "metadata": {
            "tags": []
          },
          "execution_count": 807
        }
      ]
    },
    {
      "cell_type": "code",
      "metadata": {
        "id": "2jTThAcneHNh",
        "colab_type": "code",
        "colab": {},
        "outputId": "27ca62aa-2fc8-4073-b9c2-ace0d9415c59"
      },
      "source": [
        "predict_red_3 = clf_red.predict(Redundancy_test_Vec_2_norm)\n",
        "red_MSE_3 = mean_squared_error(Redundancy_test_Y,predict_red_3)\n",
        "red_pearsonr_3 = pearsonr(Redundancy_test_Y,predict_red_3)\n",
        "print('The MSE is '+str(red_MSE_3) +'. The pearson is '+str(red_pearsonr_3) +'.')"
      ],
      "execution_count": 0,
      "outputs": [
        {
          "output_type": "stream",
          "text": [
            "The MSE is 0.8031088082901554. The pearson is (0.12965330171063671, 0.07232078748755091).\n"
          ],
          "name": "stdout"
        }
      ]
    },
    {
      "cell_type": "markdown",
      "metadata": {
        "id": "PpyQRpMoeHNj",
        "colab_type": "text"
      },
      "source": [
        "#### 4.3.1"
      ]
    },
    {
      "cell_type": "code",
      "metadata": {
        "id": "kX-inbubeHNk",
        "colab_type": "code",
        "colab": {}
      },
      "source": [
        "def count_noun_chunks(text):\n",
        "    nlp = spacy.load(\"en_core_web_sm\")\n",
        "    doc = nlp(text)\n",
        "    chunk_dic = {}\n",
        "    for chunk in doc.noun_chunks:\n",
        "        if str(chunk) in chunk_dic:\n",
        "            chunk_dic[str(chunk)] +=1\n",
        "        if str(chunk) not in chunk_dic:\n",
        "            chunk_dic[str(chunk)] =1\n",
        "    repeated_chunks = 0\n",
        "    for i in chunk_dic: \n",
        "        if chunk_dic[i]>1:\n",
        "            repeated_chunks+=1\n",
        "            \n",
        "    return repeated_chunks"
      ],
      "execution_count": 0,
      "outputs": []
    },
    {
      "cell_type": "code",
      "metadata": {
        "id": "_GhiIbabeHNl",
        "colab_type": "code",
        "colab": {}
      },
      "source": [
        "Coherence_Score_Vec = []\n",
        "Coherence_Score_Y = []\n",
        "for i in Summary_list:\n",
        "    temp_text = i[1].lower().replace('\\n',' ')\n",
        "    temp_vec = [count_noun_chunks(temp_text)]\n",
        "    Coherence_Score_Vec.append(temp_vec)\n",
        "    Coherence_Score_Y.append(summary_vector(train_data, i[0])[0])\n",
        "    "
      ],
      "execution_count": 0,
      "outputs": []
    },
    {
      "cell_type": "code",
      "metadata": {
        "id": "ESNfEUIleHNn",
        "colab_type": "code",
        "colab": {}
      },
      "source": [
        "Coherence_Score_Vec_norm = normalization(Coherence_Score_Vec)"
      ],
      "execution_count": 0,
      "outputs": []
    },
    {
      "cell_type": "code",
      "metadata": {
        "id": "XMmhugxSeHNs",
        "colab_type": "code",
        "colab": {}
      },
      "source": [
        "Coherence_test_Vec = []\n",
        "Coherence_test_Y = []\n",
        "for i in test_summary:\n",
        "    temp_text = i[1].lower().replace('\\n',' ')\n",
        "    temp_vec = [count_noun_chunks(temp_text)]\n",
        "    Coherence_test_Vec.append(temp_vec)\n",
        "    Coherence_test_Y.append(summary_vector(test_data, i[0])[0])"
      ],
      "execution_count": 0,
      "outputs": []
    },
    {
      "cell_type": "code",
      "metadata": {
        "id": "rDAkkpDseHNw",
        "colab_type": "code",
        "colab": {}
      },
      "source": [
        "Coherence_test_Vec_norm = normalization(Coherence_test_Vec)"
      ],
      "execution_count": 0,
      "outputs": []
    },
    {
      "cell_type": "code",
      "metadata": {
        "id": "cX-x6IOYeHNy",
        "colab_type": "code",
        "colab": {},
        "outputId": "169e20ba-3178-4b29-85ad-4c743a96b25f"
      },
      "source": [
        "clf_coh = svm.SVC(gamma='auto_deprecated')\n",
        "clf_coh.fit(Coherence_Score_Vec_norm, Coherence_Score_Y)  "
      ],
      "execution_count": 0,
      "outputs": [
        {
          "output_type": "execute_result",
          "data": {
            "text/plain": [
              "SVC(C=1.0, cache_size=200, class_weight=None, coef0=0.0,\n",
              "  decision_function_shape='ovr', degree=3, gamma='auto_deprecated',\n",
              "  kernel='rbf', max_iter=-1, probability=False, random_state=None,\n",
              "  shrinking=True, tol=0.001, verbose=False)"
            ]
          },
          "metadata": {
            "tags": []
          },
          "execution_count": 36
        }
      ]
    },
    {
      "cell_type": "code",
      "metadata": {
        "id": "DvT2wKpueHN0",
        "colab_type": "code",
        "colab": {}
      },
      "source": [
        "predict_coh = clf_coh.predict(Coherence_test_Vec_norm)"
      ],
      "execution_count": 0,
      "outputs": []
    },
    {
      "cell_type": "code",
      "metadata": {
        "id": "R0M8LKMceHN2",
        "colab_type": "code",
        "colab": {}
      },
      "source": [
        "coh_MSE_1 = mean_squared_error(Coherence_test_Y,predict_coh)"
      ],
      "execution_count": 0,
      "outputs": []
    },
    {
      "cell_type": "code",
      "metadata": {
        "id": "qSIbObrJeHN5",
        "colab_type": "code",
        "colab": {},
        "outputId": "b11c7f30-9e45-4a43-da3e-96374ef69b8a"
      },
      "source": [
        "coh_pearsonr_1 = pearsonr(Coherence_test_Y,predict_coh)"
      ],
      "execution_count": 0,
      "outputs": [
        {
          "output_type": "stream",
          "text": [
            "/Users/xizheng/anaconda3/lib/python3.6/site-packages/scipy/stats/stats.py:3038: RuntimeWarning: invalid value encountered in double_scalars\n",
            "  r = r_num / r_den\n"
          ],
          "name": "stderr"
        }
      ]
    },
    {
      "cell_type": "code",
      "metadata": {
        "id": "NK57y9L_eHN7",
        "colab_type": "code",
        "colab": {},
        "outputId": "ef053068-27be-40c4-e17a-07641fa63dea"
      },
      "source": [
        "print('The MSE is '+str(coh_MSE_1) +'. The pearson is '+str(coh_pearsonr_1) +'.')"
      ],
      "execution_count": 0,
      "outputs": [
        {
          "output_type": "stream",
          "text": [
            "The MSE is 1.2124352331606219. The pearson is (nan, 1.0).\n"
          ],
          "name": "stdout"
        }
      ]
    },
    {
      "cell_type": "code",
      "metadata": {
        "id": "M9v99JvYeHOH",
        "colab_type": "code",
        "colab": {}
      },
      "source": [
        ""
      ],
      "execution_count": 0,
      "outputs": []
    }
  ]
}